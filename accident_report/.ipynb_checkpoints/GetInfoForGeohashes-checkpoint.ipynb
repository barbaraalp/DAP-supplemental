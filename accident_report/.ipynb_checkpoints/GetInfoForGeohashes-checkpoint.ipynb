{
 "cells": [
  {
   "cell_type": "code",
   "execution_count": 1,
   "metadata": {},
   "outputs": [],
   "source": [
    "import numpy as np\n",
    "import pandas as pd\n",
    "import pickle"
   ]
  },
  {
   "cell_type": "code",
   "execution_count": 2,
   "metadata": {},
   "outputs": [],
   "source": [
    "cities = ['Atlanta', 'Austin', 'Charlotte', 'Dallas', 'Houston', 'LosAngeles']\n",
    "with open('geo_dict.pkl', 'rb') as f:\n",
    "    geo_mapping = pickle.load(f)\n",
    "\n",
    "id_to_geocode = {}\n",
    "for g in geo_mapping:\n",
    "    id_to_geocode[geo_mapping[g]] = g\n",
    "\n",
    "geo_to_count = {}\n",
    "    \n",
    "for c in cities:\n",
    "    geo_id    = np.load('{}_code.npy'.format(c))\n",
    "    geo_count = np.load('{}_count.npy'.format(c))\n",
    "    \n",
    "    for i in range(len(geo_id)):\n",
    "        geo_to_count[id_to_geocode[geo_id[i]]] = geo_count[i]"
   ]
  },
  {
   "cell_type": "code",
   "execution_count": 6,
   "metadata": {},
   "outputs": [],
   "source": [
    "writer = open('goecode_to_accident_count.csv', 'w')\n",
    "writer.write('Geohash,#Accident\\n')\n",
    "\n",
    "for g in geo_mapping:\n",
    "    if g in geo_to_count:\n",
    "        writer.write('{},{}\\n'.format(g, geo_to_count[g]))\n",
    "    else:\n",
    "        writer.write('{},{}\\n'.format(g, 0))\n",
    "writer.close()"
   ]
  },
  {
   "cell_type": "code",
   "execution_count": null,
   "metadata": {},
   "outputs": [],
   "source": []
  }
 ],
 "metadata": {
  "kernelspec": {
   "display_name": "Python 3.5 [python/3.5 ]",
   "language": "python",
   "name": "sys_python35"
  },
  "language_info": {
   "codemirror_mode": {
    "name": "ipython",
    "version": 3
   },
   "file_extension": ".py",
   "mimetype": "text/x-python",
   "name": "python",
   "nbconvert_exporter": "python",
   "pygments_lexer": "ipython3",
   "version": "3.5.2"
  }
 },
 "nbformat": 4,
 "nbformat_minor": 2
}
